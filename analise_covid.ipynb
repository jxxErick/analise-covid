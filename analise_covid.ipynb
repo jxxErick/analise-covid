{
 "cells": [
  {
   "cell_type": "code",
   "execution_count": null,
   "metadata": {},
   "outputs": [],
   "source": [
    "import pandas as pd\n",
    "import numpy as np\n",
    "from datetime import datetime\n",
    "import plotly.express as px\n",
    "import plotly.graph_objects as go\n",
    "from pmdarima.arima import auto_arima\n",
    "from fbprophet import Prophet\n",
    "from statsmodels.tsa.seasonal import seasonal_decompose"
   ]
  },
  {
   "cell_type": "code",
   "execution_count": null,
   "metadata": {},
   "outputs": [],
   "source": [
    "url = 'https://github.com/jxxErick/analise-covid/blob/main/covid_19_data.csv'\n",
    "df = pd.read_csv(url, parse_dates=['ObservationDate', 'Last Update'])"
   ]
  },
  {
   "cell_type": "code",
   "execution_count": null,
   "metadata": {},
   "outputs": [],
   "source": [
    "#Função para correção de colunas\n",
    "def corrige_colunas(col_name):\n",
    "    return re.sub(r\"[/| ]\", \"\", col_name).lower()\n",
    "\n",
    "df.columns = [corrige_colunas(col) for col in df.columns]"
   ]
  },
  {
   "cell_type": "code",
   "execution_count": null,
   "metadata": {},
   "outputs": [],
   "source": [
    "# Análise exploratória dos casos no Brasil\n",
    "brasil = df.loc[(df.countryregion == 'Brazil') & (df.confirmed > 0)]"
   ]
  },
  {
   "cell_type": "code",
   "execution_count": null,
   "metadata": {},
   "outputs": [],
   "source": [
    "# Gráfico de casos confirmados\n",
    "fig1 = px.line(brasil, 'observationdate', 'confirmed', \n",
    "               labels={'observationdate':'Data', 'confirmed':'Número de casos confirmados'},\n",
    "               title='Casos confirmados no Brasil')\n"
   ]
  },
  {
   "cell_type": "code",
   "execution_count": null,
   "metadata": {},
   "outputs": [],
   "source": [
    "# Gráfico de novos casos por dia\n",
    "brasil['novoscasos'] = list(map(\n",
    "    lambda x: 0 if (x==0) else brasil['confirmed'].iloc[x] - brasil['confirmed'].iloc[x-1],\n",
    "    np.arange(brasil.shape[0])\n",
    "))\n",
    "\n",
    "fig2 = px.line(brasil, x='observationdate', y='novoscasos', title='Novos casos por dia',\n",
    "               labels={'observationdate': 'Data', 'novoscasos': 'Novos casos'})"
   ]
  },
  {
   "cell_type": "code",
   "execution_count": null,
   "metadata": {},
   "outputs": [],
   "source": [
    "# Gráfico de mortes\n",
    "fig3 = go.Figure()\n",
    "fig3.add_trace(go.Scatter(x=brasil.observationdate, y=brasil.deaths, name='Mortes', mode='lines+markers',\n",
    "                          line=dict(color='red')))\n",
    "fig3.update_layout(title='Mortes por COVID-19 no Brasil',\n",
    "                   xaxis_title='Data',\n",
    "                   yaxis_title='Número de mortes')"
   ]
  },
  {
   "cell_type": "code",
   "execution_count": null,
   "metadata": {},
   "outputs": [],
   "source": [
    "# Função para calcular taxa de crescimento\n",
    "def taxa_crescimento(data, variable, data_inicio=None, data_fim=None):\n",
    "    \n",
    "    # Filtrar dados no período especificado\n",
    "    if data_inicio:\n",
    "        data = data[data.observationdate >= data_inicio]\n",
    "    if data_fim:\n",
    "        data = data[data.observationdate <= data_fim]\n",
    "\n",
    "    # Calcular a taxa de crescimento\n",
    "    inicio_valor = data[variable].iloc[0]\n",
    "    fim_valor = data[variable].iloc[-1]\n",
    "\n",
    "    taxa = ((fim_valor / inicio_valor) ** (1 / len(data.index)) - 1) * 100\n",
    "\n",
    "    return taxa"
   ]
  },
  {
   "cell_type": "code",
   "execution_count": null,
   "metadata": {},
   "outputs": [],
   "source": [
    "# Taxa de crescimento médio\n",
    "cresc_medio = taxa_crescimento(brasil, 'confirmed')\n",
    "print(f\"O crescimento médio do COVID no Brasil no período avaliado foi de {cresc_medio.round(2)}%.\")"
   ]
  },
  {
   "cell_type": "code",
   "execution_count": null,
   "metadata": {},
   "outputs": [],
   "source": [
    "# Função para calcular taxa de crescimento diária\n",
    "def taxa_crescimento_diaria(data, variable, data_inicio=None):\n",
    "\n",
    "    # Filtrar dados a partir da data de início, se fornecida\n",
    "    if data_inicio:\n",
    "        data = data[data.observationdate >= data_inicio]\n",
    "\n",
    "    # Calcular as taxas de crescimento diárias\n",
    "    taxas_diarias = (\n",
    "        (data[variable].diff() / data[variable].shift(1)).fillna(0) * 100\n",
    "    ).values\n",
    "    \n",
    "    return taxas_diarias"
   ]
  },
  {
   "cell_type": "code",
   "execution_count": null,
   "metadata": {},
   "outputs": [],
   "source": [
    "# Gráfico da taxa de crescimento diária\n",
    "fig4 = go.Figure(go.Scatter(\n",
    "    x=pd.date_range(primeiro_dia, brasil.observationdate.max())[1:],\n",
    "    y=tx_dia, title='Taxa de crescimento de casos confirmados no Brasil',\n",
    "    labels={'y':'Taxa de crescimento', 'x':'Data'}\n",
    "))"
   ]
  },
  {
   "cell_type": "code",
   "execution_count": null,
   "metadata": {},
   "outputs": [],
   "source": [
    "# Análise de decomposição sazonal\n",
    "novoscasos = brasil.novoscasos\n",
    "novoscasos.index = brasil.observationdate\n",
    "res = seasonal_decompose(novoscasos)\n",
    "\n",
    "confirmados = brasil.confirmed\n",
    "confirmados.index = brasil.observationdate\n",
    "res2 = seasonal_decompose(confirmados)\n"
   ]
  },
  {
   "cell_type": "code",
   "execution_count": null,
   "metadata": {},
   "outputs": [],
   "source": [
    "# Modelo ARIMA\n",
    "modelo = auto_arima(confirmados)\n",
    "pd.date_range('2020-05-01', '2020-05-19')"
   ]
  },
  {
   "cell_type": "code",
   "execution_count": null,
   "metadata": {},
   "outputs": [],
   "source": [
    "\n",
    "# Gráfico da previsão de casos confirmados\n",
    "fig5 = go.Figure(go.Scatter(\n",
    "    x=confirmados.index, y=confirmados, name='Observed'\n",
    "))\n",
    "fig5.add_trace(go.Scatter(x=confirmados.index, y=modelo.predict_in_sample(), name='Predicted'))\n",
    "fig5.add_trace(go.Scatter(x=pd.date_range('2020-05-20', '2020-06-05'), y=modelo.predict(15), name='Forecast'))\n",
    "fig5.update_layout(title='Previsão de casos confirmados para os próximos 15 dias',\n",
    "                   xaxis_title='Data',\n",
    "                   yaxis_title='Número de casos confirmados')\n"
   ]
  },
  {
   "cell_type": "code",
   "execution_count": null,
   "metadata": {},
   "outputs": [],
   "source": [
    "# Modelo Prophet\n",
    "profeta = pd.DataFrame(zip(brasil.observationdate, brasil.confirmed), columns=['ds', 'y'])\n",
    "modelo = Prophet(interval_width=0.95)\n",
    "modelo.fit(profeta)\n"
   ]
  },
  {
   "cell_type": "code",
   "execution_count": null,
   "metadata": {},
   "outputs": [],
   "source": [
    "# Previsão usando o Prophet\n",
    "futuro = modelo.make_future_dataframe(periods=15)\n",
    "previsao = modelo.predict(futuro)\n"
   ]
  },
  {
   "cell_type": "code",
   "execution_count": null,
   "metadata": {},
   "outputs": [],
   "source": [
    "# Gráfico da previsão usando o Prophet\n",
    "fig6 = go.Figure()\n",
    "fig6.add_trace(go.Scatter(x=profeta.ds, y=profeta.y, name='Observado', mode='markers'))\n",
    "fig6.add_trace(go.Scatter(x=previsao.ds, y=previsao.yhat, name='Previsto'))\n",
    "fig6.update_layout(title='Previsão de casos confirmados usando o Prophet',\n",
    "                   xaxis_title='Data',\n",
    "                   yaxis_title='Número de casos confirmados')"
   ]
  }
 ],
 "metadata": {
  "kernelspec": {
   "display_name": "Python 3",
   "language": "python",
   "name": "python3"
  },
  "language_info": {
   "codemirror_mode": {
    "name": "ipython",
    "version": 3
   },
   "file_extension": ".py",
   "mimetype": "text/x-python",
   "name": "python",
   "nbconvert_exporter": "python",
   "pygments_lexer": "ipython3",
   "version": "3.12.1"
  }
 },
 "nbformat": 4,
 "nbformat_minor": 2
}
